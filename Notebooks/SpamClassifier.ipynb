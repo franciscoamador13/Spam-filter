{
 "cells": [
  {
   "cell_type": "code",
   "execution_count": 1,
   "id": "4bc76b4e-dc14-4b2b-9d88-c2c39ad702a3",
   "metadata": {},
   "outputs": [],
   "source": [
    "import urllib.request\n",
    "import tarfile\n",
    "from pathlib import Path\n",
    "import os\n",
    "\n",
    "def fetch_all_spam_data():\n",
    "    spam_root = \"http://spamassassin.apache.org/old/publiccorpus/\"\n",
    "    files = {\n",
    "        \"non_spam\": [\n",
    "            \"20021010_easy_ham.tar.bz2\",\n",
    "            \"20030228_easy_ham.tar.bz2\",\n",
    "            \"20030228_easy_ham_2.tar.bz2\",\n",
    "            \"20021010_hard_ham.tar.bz2\",\n",
    "            \"20030228_hard_ham.tar.bz2\",\n",
    "        ],\n",
    "        \"spam\": [\n",
    "            \"20021010_spam.tar.bz2\",\n",
    "            \"20030228_spam.tar.bz2\",\n",
    "            \"20030228_spam_2.tar.bz2\",\n",
    "            \"20050311_spam_2.tar.bz2\",\n",
    "        ],\n",
    "    }\n",
    "\n",
    "    user_home = Path(os.environ[\"USERPROFILE\"])\n",
    "    base_path = user_home / \"SpamFilter\" / \"Data\" / \"Raw\"\n",
    "\n",
    "    for category, filenames in files.items():\n",
    "        target_dir = base_path / (\"Non-Spam\" if category == \"non_spam\" else \"Spam\")\n",
    "        target_dir.mkdir(parents=True, exist_ok=True)\n",
    "\n",
    "        for filename in filenames:\n",
    "            file_url = spam_root + filename\n",
    "            local_tar_path = target_dir / filename\n",
    "\n",
    "            if not local_tar_path.exists():\n",
    "                urllib.request.urlretrieve(file_url, local_tar_path)\n",
    "\n",
    "            with tarfile.open(local_tar_path, \"r:bz2\") as tar:\n",
    "                for member in tar.getmembers():\n",
    "                    if member.isfile():\n",
    "                        member.name = Path(member.name).name\n",
    "                        tar.extract(member, path=target_dir)\n",
    "\n",
    "    return base_path / \"Non-Spam\", base_path / \"Spam\"\n"
   ]
  },
  {
   "cell_type": "code",
   "execution_count": 2,
   "id": "d406813c-3daf-45c6-89b6-d1a7695e5cb7",
   "metadata": {},
   "outputs": [
    {
     "name": "stderr",
     "output_type": "stream",
     "text": [
      "C:\\Users\\franc\\AppData\\Local\\Temp\\ipykernel_12948\\2899497703.py:42: DeprecationWarning: Python 3.14 will, by default, filter extracted tar archives and reject files or modify their metadata. Use the filter argument to control this behavior.\n",
      "  tar.extract(member, path=target_dir)\n"
     ]
    }
   ],
   "source": [
    "ham_dir, spam_dir = fetch_all_spam_data()"
   ]
  },
  {
   "cell_type": "code",
   "execution_count": 3,
   "id": "2c026c4a-565b-4905-ac42-70e29020973d",
   "metadata": {},
   "outputs": [],
   "source": [
    "ham_filenames = [f for f in sorted(ham_dir.rglob(\"*\")) if f.is_file() and len(f.name) > 20]\n",
    "spam_filenames = [f for f in sorted(spam_dir.rglob(\"*\"))if f.is_file() and len(f.name) > 20]"
   ]
  },
  {
   "cell_type": "code",
   "execution_count": 23,
   "id": "582901c6-4d18-48cf-846e-d2593ecc8c46",
   "metadata": {},
   "outputs": [
    {
     "data": {
      "text/plain": [
       "6956"
      ]
     },
     "execution_count": 23,
     "metadata": {},
     "output_type": "execute_result"
    }
   ],
   "source": [
    "len(ham_filenames)"
   ]
  },
  {
   "cell_type": "code",
   "execution_count": 24,
   "id": "7015bded-debc-43d5-978d-88fa9daa62d3",
   "metadata": {},
   "outputs": [
    {
     "data": {
      "text/plain": [
       "2402"
      ]
     },
     "execution_count": 24,
     "metadata": {},
     "output_type": "execute_result"
    }
   ],
   "source": [
    "len(spam_filenames)"
   ]
  },
  {
   "cell_type": "code",
   "execution_count": 25,
   "id": "ae760f60-d864-482f-af81-19184afdec44",
   "metadata": {},
   "outputs": [],
   "source": [
    "import email\n",
    "import email.policy\n",
    "\n",
    "def load_email(filepath):\n",
    "    with open(filepath, \"rb\") as f:\n",
    "        return email.parser.BytesParser(policy=email.policy.default).parse(f)"
   ]
  },
  {
   "cell_type": "code",
   "execution_count": 26,
   "id": "b6d02175-3b2c-45f9-ac61-63bacfd1faf3",
   "metadata": {},
   "outputs": [],
   "source": [
    "ham_emails = [load_email(filepath) for filepath in ham_filenames]\n",
    "spam_emails = [load_email(filepath) for filepath in spam_filenames]"
   ]
  },
  {
   "cell_type": "code",
   "execution_count": 27,
   "id": "c59a85c3-eb35-41ac-a81e-e5d38b09b4ec",
   "metadata": {},
   "outputs": [
    {
     "name": "stdout",
     "output_type": "stream",
     "text": [
      "<html>\n",
      "<body>\n",
      "<center>\n",
      "<b>\n",
      "<font color=\"blue\">\n",
      "*****Bonus Fat Absorbers As Seen On TV, Included Free With Purchase Of 2 Or More Bottle, $24.95 Value*****\n",
      "</font>\n",
      "<br>\n",
      "<br>\n",
      "***TAKE $10.00 OFF 2 & 3 MONTH SUPPLY ORDERS, $5.00 OFF 1 MONTH SUPPLY!\n",
      "***AND STILL GET YOUR BONUS!  PRICE WILL BE DEDUCTED DURING PROCESSING.\n",
      "<br>\n",
      "<br>\n",
      "***FAT ABSORBERS ARE GREAT FOR THOSE WHO WANT TO LOSE WEIGHT,  BUT CAN'T STAY ON A DIET***\n",
      "<br>\n",
      "<br>\n",
      "***OFFER GOOD UNTIL MAY 27, 2002!  FOREIGN ORDERS INCLUDED!\n",
      "<br>\n",
      "<br>\n",
      "\n",
      "<font color=\"blue\">\n",
      "\n",
      "LOSE 30 POUNDS  IN 30 DAYS... GUARANTEED!!!\n",
      "<br>\n",
      "<br>\n",
      "\n",
      "All Natural Weight-Loss Program, Speeds Up The Metabolism Safely\n",
      "Rated #1 In Both Categories of SAFETY & EFFECTIVENESS In<br>\n",
      "(THE United States Today)\n",
      "<br><br>\n",
      "WE'LL HELP YOU GET THINNER!\n",
      "WE'RE GOING TO HELP YOU LOOK GOOD, FEEL GOOD AND TAKE CONTROL IN\n",
      "2002\n",
      "<br>\n",
      "<br>\n",
      "</b>\n",
      "</font color=\"blue\">\n",
      "</center>\n",
      "\n",
      "Why Use Our Amazing Weight Loss Capsules?\n",
      "<br><br>\n",
      "*  They act like a natural magnet to attract fat.<br>\n",
      "*  Stimulates the body's natural metabolism. <br>\n",
      "*  Controls appetite naturally and makes it easier to\n",
      "   eat the right foods consistently.<br>\n",
      "*  Reduces craving for sweets.<br>\n",
      "*  Aids in the absorption of fat and in overall digestion.<br>\n",
      "*  Inhibits bad cholesterol and boosts good cholesterol.<br>\n",
      "*  Aids in the process of weight loss and long-term weight management.<br>\n",
      "*  Completely safe, UltraTrim New Century contains no banned\n",
      "   substances and has no known side effects.<br>\n",
      "<br>\n",
      "What Makes UltraTrim New Century Unique?\n",
      "<br><br>\n",
      "A scientifically designed combination of natural ingredients that\n",
      "provide long-term weight management in a safe and effective manner.\n",
      "<br><br>\n",
      "*****<br>\n",
      "Receive A Bonus Supply Of Ultra Trim New Century & A Bottle Of Fat Absorbers Listed Above, \n",
      "With Every Order Of 2 Or More Bottles. Offer Good Until May. 27, 2002! <br>\n",
      "*****\n",
      "<br><br>\n",
      "WE GLADLY SHIP TO ALL FOREIGN COUNTRIES! \n",
      "<br><br>\n",
      "You will be losing by tomorrow!  Don't Wait, visit our web\n",
      "page below, and order now!\n",
      "<br><br>\n",
      "Email Address:   <a\n",
      "href=\"mailto:ultratrimnow2001@aol.com\">ultratrimnow2001@aol.com</a>\n",
      "<br><br>\n",
      "Order by 24 Hour Fax!!!  775-257-6657.<br>\n",
      "<br>\n",
      "*****************<br>\n",
      "<a\n",
      "href=\"http://www.geocities.com/ultra_weightloss_2002/\">http://www.geocities.com/ultra_weightloss_2002/</a><br>\n",
      "*****************\n",
      "<br><br>\n",
      "This is the easiest, fastest, and most effective way to lose both\n",
      "pounds and inches permanently!!!  This weight loss program is\n",
      "designed specifically to \"boost\" weight-loss efforts by assisting\n",
      "body metabolism, and helping the body's ability to manage weight.\n",
      "A powerful, safe, 30 Day Program.  This is one program you won't\n",
      "feel starved on.  Complete program for one amazing low price!\n",
      "Program includes: <b>BONUS AMAZING FAT ABSORBER CAPSULES, 30 DAY -\n",
      "WEIGHT\n",
      "REDUCTION PLAN, PROGRESS REPORT!</b>\n",
      "<br><br>\n",
      "SPECIAL BONUS...\"FAT ABSORBERS\", AS SEEN ON TV\n",
      "With every order...AMAZING MELT AWAY FAT ABSORBER CAPSULES with\n",
      "directions ( Absolutely Free ) ...With these capsules\n",
      "you can eat what you enjoy, without the worry of fat in your diet.\n",
      "2 to 3 capsules 15 minutes before eating or snack, and the fat will be\n",
      "absorbed and passed through the body without the digestion of fat into\n",
      "the body. \n",
      "<br><br>\n",
      "You will be losing by tomorrow!  Don't Wait, visit our web\n",
      "page below, and order now!\n",
      "<br><br>\n",
      "Email Address:  <a href=\"mailto:ultratrimnow2001@aol.com\">ultratrimnow2001@aol.com</a>\n",
      "<br><br>\n",
      "\n",
      "Order by 24 Hour Fax!!!  775-257-6657.<br>\n",
      "<br>\n",
      "*****************<br>\n",
      "<a\n",
      "href=\"http://www.geocities.com/ultra_weightloss_2002/\">http://www.geocities.com/ultra_weightloss_2002/</a><br>\n",
      "*****************\n",
      "<br><br>\n",
      "___1 Month Supply $32.95 plus $4.75 S & H, 100 Amazing MegaTrim\n",
      "     Capsules.\n",
      "<br><br>\n",
      "___2 Month Supply $54.95 plus $4.75 S & H, 200 Amazing MegaTrim\n",
      "     Capsules.  (A $10.95 Savings, Free Bottle)!\n",
      "<br><br>\n",
      "___3 Month Supply $69.95,  Plus $4.75 S & H, 300 Amazing MegaTrim\n",
      "     Capsules.  (A $28.90 Savings, Free Bottle)!\n",
      "<br><br>\n",
      "To Order by postal mail, please send to the below address.\n",
      "Make payable to UltraTrim 2002.\n",
      "<br><br>\n",
      "Ultra Trim 2002<br>\n",
      "4132 Pompton Ct.<br>\n",
      "Dayton, Ohio  45405<br>\n",
      "(937) 567-9807<br>\n",
      "<br>\n",
      "Order by 24 Hour Voice/Fax!!!  775-257-6657.<br>\n",
      "<br>\n",
      "*****<br>\n",
      "<b><font color=\"red\">Important Credit Card Information! Please Read Below!</b></font>\n",
      " <br><br>\n",
      "*     Credit Card Address, City, State and Zip Code, must match\n",
      "      billing address to be processed. \n",
      "<br><br>\n",
      "\n",
      "___Check<br>\n",
      "___MoneyOrder<br>\n",
      "___Visa<br>\n",
      "___MasterCard<br>\n",
      "___AmericanExpress<br>\n",
      "___Debt Card\n",
      "<br><br>\n",
      "Name_______________________________________________________<br>\n",
      "(As it appears on Check or Credit Card)\n",
      "<br><br>\n",
      "Address____________________________________________________<br>\n",
      "(As it appears on Check or Credit Card)\n",
      "<br><br>\n",
      "___________________________________________________<br>\n",
      "City,State,Zip(As it appears on Check or Credit Card)\n",
      "<br><br>\n",
      "___________________________________________________<br>\n",
      "Country\n",
      "<br><br>\n",
      "___________________________________________________<br>\n",
      "(Credit Card Number)\n",
      "<br><br>\n",
      "Expiration Month_____  Year_____\n",
      "<br><br>\n",
      "___________________________________________________<br>\n",
      "Authorized Signature\n",
      "<br><br>\n",
      "<b>\n",
      "*****IMPORTANT NOTE*****\n",
      "</b>\n",
      "<br><br>\n",
      "If Shipping Address Is Different From The Billing Address Above,\n",
      "Please Fill Out Information Below.\n",
      "<br><br>\n",
      "Shipping Name______________________________________________\n",
      "<br><br>\n",
      "Shipping Address___________________________________________\n",
      "<br><br>\n",
      "___________________________________________________________<br>\n",
      "Shipping City,State,Zip\n",
      "<br><br>\n",
      "___________________________________________________________<br>\n",
      "Country\n",
      "<br><br>\n",
      "___________________________________________________________<br>\n",
      "Email Address & Phone Number(Please Write Neat)\n",
      "<br>\n",
      "<br>\n",
      "<center>\n",
      "<a\n",
      "href=\"mailto:ultratrim2002dontsend@yahoo.com\">To Be Removed From Our Mail List, Click Here And Put The Word Remove In The Subject Line.</a>\n",
      "</center>\n",
      "<br>\n",
      "<br>\n",
      "</body>\n",
      "</html>\n"
     ]
    }
   ],
   "source": [
    "msg = spam_emails[6]\n",
    "def get_email_body(msg):\n",
    "    charset = msg.get_content_charset()\n",
    "    if not charset or charset.lower() == \"default\":\n",
    "        charset = \"utf-8\"\n",
    "    try:\n",
    "        return msg.get_payload(decode=True).decode(charset, errors=\"ignore\").strip()\n",
    "    except Exception as e:\n",
    "        return f\"[Error: {e}]\"\n",
    "\n",
    "print(get_email_body(spam_emails[6]))"
   ]
  },
  {
   "cell_type": "markdown",
   "id": "21d404c9-29e0-44c1-9892-dc4e073d0680",
   "metadata": {},
   "source": [
    "# Split the train and test data"
   ]
  },
  {
   "cell_type": "code",
   "execution_count": 28,
   "id": "eb3a2560-b981-4801-8019-01dbe67fcb67",
   "metadata": {},
   "outputs": [],
   "source": [
    "import numpy as np\n",
    "from sklearn.model_selection import train_test_split\n",
    "\n",
    "X = np.array(ham_emails + spam_emails, dtype=object) \n",
    "y = np.array([0] * len(ham_emails) + [1] * len(spam_emails))\n",
    "\n",
    "X_train, X_test, y_train, y_test = train_test_split(X, y, test_size=0.2,\n",
    "                                                    random_state=42)"
   ]
  },
  {
   "cell_type": "markdown",
   "id": "4a7899f7-a37f-4ad1-9783-802851a58090",
   "metadata": {},
   "source": [
    "# Data preprocessing"
   ]
  },
  {
   "cell_type": "code",
   "execution_count": 29,
   "id": "0ed7a2db-ec4c-4a37-a54c-759df0333e07",
   "metadata": {},
   "outputs": [],
   "source": [
    "from bs4 import BeautifulSoup\n",
    "\n",
    "def html_to_plain_text(msg):\n",
    "    def extract_email_body(msg):\n",
    "        if msg.is_multipart():\n",
    "            for part in msg.walk():\n",
    "                content_type = part.get_content_type()\n",
    "                if content_type in [\"text/html\", \"text/plain\"]:\n",
    "                    payload = part.get_payload(decode=True)\n",
    "                    charset = part.get_content_charset()\n",
    "                    if not charset or charset.lower() == \"default\":\n",
    "                        charset = \"utf-8\"\n",
    "                    try:\n",
    "                        return payload.decode(charset, errors='ignore')\n",
    "                    except LookupError:\n",
    "                        return payload.decode(\"utf-8\", errors='ignore')\n",
    "        else:\n",
    "            payload = msg.get_payload(decode=True)\n",
    "            charset = msg.get_content_charset()\n",
    "            if not charset or charset.lower() == \"default\":\n",
    "                charset = \"utf-8\"\n",
    "            try:\n",
    "                return payload.decode(charset, errors='ignore')\n",
    "            except LookupError:\n",
    "                return payload.decode(\"utf-8\", errors='ignore')\n",
    "        return \"\"\n",
    "\n",
    "    raw_body = extract_email_body(msg)\n",
    "    soup = BeautifulSoup(raw_body, \"html.parser\")\n",
    "    text = soup.get_text(separator=' ', strip=True)\n",
    "    return text\n"
   ]
  },
  {
   "cell_type": "code",
   "execution_count": 30,
   "id": "12a460b3-f3a6-437d-a2bb-ff2abd7a0c8f",
   "metadata": {},
   "outputs": [
    {
     "data": {
      "text/plain": [
       "'*****Bonus Fat Absorbers As Seen On TV, Included Free With Purchase Of 2 Or More Bottle, $24.95 Value***** ***TAKE $10.00 OFF 2 & 3 MONTH SUPPLY ORDERS, $5.00 OFF 1 MONTH SUPPLY!\\n***AND STILL GET YOUR BONUS!  PRICE WILL BE DEDUCTED DURING PROCESSING. ***FAT ABSORBERS ARE GREAT FOR THOSE WHO WANT TO LOSE WEIGHT,  BUT CAN\\'T STAY ON A DIET*** ***OFFER GOOD UNTIL MAY 27, 2002!  FOREIGN ORDERS INCLUDED! LOSE 30 POUNDS  IN 30 DAYS... GUARANTEED!!! All Natural Weight-Loss Program, Speeds Up The Metabolism Safely\\nRated #1 In Both Categories of SAFETY & EFFECTIVENESS In (THE United States Today) WE\\'LL HELP YOU GET THINNER!\\nWE\\'RE GOING TO HELP YOU LOOK GOOD, FEEL GOOD AND TAKE CONTROL IN\\n2002 Why Use Our Amazing Weight Loss Capsules? *  They act like a natural magnet to attract fat. *  Stimulates the body\\'s natural metabolism. *  Controls appetite naturally and makes it easier to\\n   eat the right foods consistently. *  Reduces craving for sweets. *  Aids in the absorption of fat and in overall digestion. *  Inhibits bad cholesterol and boosts good cholesterol. *  Aids in the process of weight loss and long-term weight management. *  Completely safe, UltraTrim New Century contains no banned\\n   substances and has no known side effects. What Makes UltraTrim New Century Unique? A scientifically designed combination of natural ingredients that\\nprovide long-term weight management in a safe and effective manner. ***** Receive A Bonus Supply Of Ultra Trim New Century & A Bottle Of Fat Absorbers Listed Above, \\nWith Every Order Of 2 Or More Bottles. Offer Good Until May. 27, 2002! ***** WE GLADLY SHIP TO ALL FOREIGN COUNTRIES! You will be losing by tomorrow!  Don\\'t Wait, visit our web\\npage below, and order now! Email Address: ultratrimnow2001@aol.com Order by 24 Hour Fax!!!  775-257-6657. ***************** http://www.geocities.com/ultra_weightloss_2002/ ***************** This is the easiest, fastest, and most effective way to lose both\\npounds and inches permanently!!!  This weight loss program is\\ndesigned specifically to \"boost\" weight-loss efforts by assisting\\nbody metabolism, and helping the body\\'s ability to manage weight.\\nA powerful, safe, 30 Day Program.  This is one program you won\\'t\\nfeel starved on.  Complete program for one amazing low price!\\nProgram includes: BONUS AMAZING FAT ABSORBER CAPSULES, 30 DAY -\\nWEIGHT\\nREDUCTION PLAN, PROGRESS REPORT! SPECIAL BONUS...\"FAT ABSORBERS\", AS SEEN ON TV\\nWith every order...AMAZING MELT AWAY FAT ABSORBER CAPSULES with\\ndirections ( Absolutely Free ) ...With these capsules\\nyou can eat what you enjoy, without the worry of fat in your diet.\\n2 to 3 capsules 15 minutes before eating or snack, and the fat will be\\nabsorbed and passed through the body without the digestion of fat into\\nthe body. You will be losing by tomorrow!  Don\\'t Wait, visit our web\\npage below, and order now! Email Address: ultratrimnow2001@aol.com Order by 24 Hour Fax!!!  775-257-6657. ***************** http://www.geocities.com/ultra_weightloss_2002/ ***************** ___1 Month Supply $32.95 plus $4.75 S & H, 100 Amazing MegaTrim\\n     Capsules. ___2 Month Supply $54.95 plus $4.75 S & H, 200 Amazing MegaTrim\\n     Capsules.  (A $10.95 Savings, Free Bottle)! ___3 Month Supply $69.95,  Plus $4.75 S & H, 300 Amazing MegaTrim\\n     Capsules.  (A $28.90 Savings, Free Bottle)! To Order by postal mail, please send to the below address.\\nMake payable to UltraTrim 2002. Ultra Trim 2002 4132 Pompton Ct. Dayton, Ohio  45405 (937) 567-9807 Order by 24 Hour Voice/Fax!!!  775-257-6657. ***** Important Credit Card Information! Please Read Below! *     Credit Card Address, City, State and Zip Code, must match\\n      billing address to be processed. ___Check ___MoneyOrder ___Visa ___MasterCard ___AmericanExpress ___Debt Card Name_______________________________________________________ (As it appears on Check or Credit Card) Address____________________________________________________ (As it appears on Check or Credit Card) ___________________________________________________ City,State,Zip(As it appears on Check or Credit Card) ___________________________________________________ Country ___________________________________________________ (Credit Card Number) Expiration Month_____  Year_____ ___________________________________________________ Authorized Signature *****IMPORTANT NOTE***** If Shipping Address Is Different From The Billing Address Above,\\nPlease Fill Out Information Below. Shipping Name______________________________________________ Shipping Address___________________________________________ ___________________________________________________________ Shipping City,State,Zip ___________________________________________________________ Country ___________________________________________________________ Email Address & Phone Number(Please Write Neat) To Be Removed From Our Mail List, Click Here And Put The Word Remove In The Subject Line.'"
      ]
     },
     "execution_count": 30,
     "metadata": {},
     "output_type": "execute_result"
    }
   ],
   "source": [
    "html_to_plain_text(msg)"
   ]
  },
  {
   "cell_type": "code",
   "execution_count": 31,
   "id": "54d4a1a7-1979-4fbf-92d2-fe57dad777ea",
   "metadata": {},
   "outputs": [],
   "source": [
    "import nltk\n",
    "\n",
    "stemmer = nltk.PorterStemmer()"
   ]
  },
  {
   "cell_type": "code",
   "execution_count": 32,
   "id": "16afdc64-e60b-4af9-b5b2-1e05b0bff3b1",
   "metadata": {},
   "outputs": [],
   "source": [
    "import urlextract\n",
    "\n",
    "url_extractor = urlextract.URLExtract()"
   ]
  },
  {
   "cell_type": "code",
   "execution_count": 33,
   "id": "a2514b04-0234-4088-8fe5-52813ee16e75",
   "metadata": {},
   "outputs": [],
   "source": [
    "from sklearn.base import BaseEstimator, TransformerMixin\n",
    "import re\n",
    "from collections import Counter\n",
    "\n",
    "class EmailToWordCounterTransformer(BaseEstimator, TransformerMixin):\n",
    "    def __init__(self, lower_case=True,\n",
    "                 remove_punctuation=True, replace_urls=True,\n",
    "                 replace_numbers=True, stemming=True):\n",
    "        self.lower_case = lower_case\n",
    "        self.remove_punctuation = remove_punctuation\n",
    "        self.replace_urls = replace_urls\n",
    "        self.replace_numbers = replace_numbers\n",
    "        self.stemming = stemming\n",
    "    def fit(self, X, y=None):\n",
    "        return self\n",
    "    def transform(self, X, y=None):\n",
    "        X_transformed = []\n",
    "        for email in X:\n",
    "            text = html_to_plain_text(email) or \"\"\n",
    "            if self.lower_case:\n",
    "                text = text.lower()\n",
    "            if self.replace_urls and url_extractor is not None:\n",
    "                urls = list(set(url_extractor.find_urls(text)))\n",
    "                urls.sort(key=lambda url: len(url), reverse=True)\n",
    "                for url in urls:\n",
    "                    text = text.replace(url, \" URL \")\n",
    "            if self.replace_numbers:\n",
    "                text = re.sub(r'\\d+(?:\\.\\d*)?(?:[eE][+-]?\\d+)?', 'NUMBER', text)\n",
    "            if self.remove_punctuation:\n",
    "                text = re.sub(r'\\W+', ' ', text, flags=re.M)\n",
    "            word_counts = Counter(text.split())\n",
    "            if self.stemming and stemmer is not None:\n",
    "                stemmed_word_counts = Counter()\n",
    "                for word, count in word_counts.items():\n",
    "                    stemmed_word = stemmer.stem(word)\n",
    "                    stemmed_word_counts[stemmed_word] += count\n",
    "                word_counts = stemmed_word_counts\n",
    "            X_transformed.append(word_counts)\n",
    "        return np.array(X_transformed)"
   ]
  },
  {
   "cell_type": "code",
   "execution_count": 34,
   "id": "84777d4e-55ce-46d6-a99c-e0d56519a790",
   "metadata": {},
   "outputs": [
    {
     "data": {
      "text/plain": [
       "array([Counter({'number': 5, 'to': 4, 'use': 3, 'perl': 3, 'you': 3, 'messag': 3, 'your': 3, 'on': 2, 'url': 2, 'receiv': 2, 'thi': 2, 'and': 2, 'from': 2, 'or': 2, 'chang': 2, 'prefer': 2, 'daili': 1, 'headlin': 1, 'mailer': 1, 'two': 1, 'oscon': 1, 'lightn': 1, 'talk': 1, 'onlin': 1, 'post': 1, 'by': 1, 'gnat': 1, 'friday': 1, 'august': 1, 'news': 1, 'copyright': 1, 'pudg': 1, 'all': 1, 'right': 1, 'reserv': 1, 'have': 1, 'becaus': 1, 'subscrib': 1, 'it': 1, 'stop': 1, 'other': 1, 'add': 1, 'more': 1, 'pleas': 1, 'go': 1, 'user': 1, 'page': 1, 'can': 1, 'log': 1, 'in': 1, 'there': 1}),\n",
       "       Counter({'the': 9, 'and': 9, 'number': 7, 'marla': 7, 'jack': 7, 'i': 7, 'you': 6, 'have': 6, 'to': 5, 'take': 5, 'parasit': 5, 'of': 4, 'meet': 4, 'it': 4, 'want': 4, 'fork': 3, 'com': 3, 'a': 3, 'can': 3, 'blood': 3, 'brain': 3, 'll': 3, 'that': 3, 'we': 3, 'admin': 2, 'xent': 2, 'on': 2, 'r': 2, 'hettinga': 2, 'aa': 2, 'hottest': 2, 'place': 2, 'women': 2, 'with': 2, 'big': 2, 'buck': 2, 'what': 2, 't': 2, 'so': 2, 'each': 2, 'three': 2, 's': 2, 'ascend': 2, 'bowel': 2, 'cancer': 2, 'advic': 1, 'lovelorn': 1, 'haiku': 1, 'serendip': 1, 'pilot': 1, 'synchron': 1, 'turn': 1, 'next': 1, 'corner': 1, 'origin': 1, 'messag': 1, 'from': 1, 'mailto': 1, 'behalf': 1, 'tom': 1, 'sent': 1, 'wednesday': 1, 'septemb': 1, 'pm': 1, 'cc': 1, 'exampl': 1, 'subject': 1, 're': 1, 'wed': 1, 'sep': 1, 'wrote': 1, 'as': 1, 'alway': 1, 'page': 1, 'out': 1, 'fight': 1, 'club': 1, 'start': 1, 'show': 1, 'up': 1, 'at': 1, 'all': 1, 'sort': 1, 'support': 1, 'group': 1, 'look': 1, 'did': 1, 'for': 1, 'both': 1, 'she': 1, 'open': 1, 'anoth': 1, 'dryer': 1, 'doe': 1, 'same': 1, 'thing': 1, 'again': 1, 'pg': 1, 'okay': 1, 'organ': 1, 'dementia': 1, 'whole': 1, 'far': 1, 'four': 1, 'two': 1, 'well': 1, 'then': 1, 'now': 1, 'six': 1, 'about': 1, 'seventh': 1, 'day': 1, 'your': 1, 'favorit': 1, 'too': 1, 'tri': 1, 'slip': 1, 'by': 1, 'me': 1, 'huh': 1, 'split': 1, 'get': 1, 'first': 1, 'third': 1, 'sunday': 1, 'month': 1, 'deal': 1}),\n",
       "       Counter({'the': 10, 'to': 10, 'number': 9, 'name': 8, 'domain': 7, 'and': 7, 'is': 5, 'thi': 5, 'registr': 4, 'new': 4, 'have': 4, 'regist': 4, 'pre': 4, 'in': 4, 'you': 4, 'be': 3, 'now': 3, 'first': 3, 'of': 3, 'not': 3, 'internet': 2, 'with': 2, 'biz': 2, 'info': 2, 'pro': 2, 'been': 2, 'will': 2, 'wait': 2, 'until': 2, 'these': 2, 'are': 2, 'avail': 2, 'for': 2, 'url': 2, 'a': 2, 'com': 2, 'later': 2, 'year': 2, 'over': 2, 'minut': 2, 'if': 2, 'your': 2, 'we': 2, 'go': 2, 'do': 2, 'email': 2, 'section': 2, 'receiv': 2, 'mail': 2, 'attent': 1, 'top': 1, 'level': 1, 'extens': 1, 'just': 1, 'approv': 1, 'by': 1, 'global': 1, 'author': 1, 'releas': 1, 'soon': 1, 'but': 1, 'don': 1, 't': 1, 'then': 1, 'at': 1, 'on': 1, 'come': 1, 'serv': 1, 'basi': 1, 'while': 1, 'hold': 1, 'most': 1, 'prestig': 1, 'next': 1, 'frontier': 1, 'suffix': 1, 'like': 1, 'becom': 1, 'busi': 1, 'week': 1, 'magazin': 1, 'april': 1, 'it': 1, 'expect': 1, 'that': 1, 'million': 1, 'few': 1, 'when': 1, 'offici': 1, 'open': 1, 'import': 1, 'prepar': 1, 'protect': 1, 'from': 1, 'cybersquatt': 1, 'specul': 1, 'premier': 1, 'engin': 1, 'help': 1, 'secur': 1, 'want': 1, 'alreadi': 1, 'queu': 1, 'into': 1, 'our': 1, 'list': 1, 'good': 1, 'fast': 1, 'last': 1, 'messag': 1, 'sent': 1, 'complianc': 1, 'bill': 1, 'per': 1, 'paragraph': 1, 'c': 1, 's': 1, 'intend': 1, 'resid': 1, 'state': 1, 'wa': 1, 'nv': 1, 'ca': 1, 'va': 1, 'error': 1, 'or': 1, 'wish': 1, 'ani': 1, 'further': 1, 'pertain': 1, 'topic': 1, 'simpli': 1, 'send': 1, 'del_list_tld': 1, 'yahoo': 1, 'respect': 1, 'all': 1, 'remov': 1, 'request': 1})],\n",
       "      dtype=object)"
      ]
     },
     "execution_count": 34,
     "metadata": {},
     "output_type": "execute_result"
    }
   ],
   "source": [
    "X_few = X_train[:3]\n",
    "X_few_wordcounts = EmailToWordCounterTransformer().fit_transform(X_few)\n",
    "X_few_wordcounts"
   ]
  },
  {
   "cell_type": "code",
   "execution_count": 35,
   "id": "688c7a38-a637-4391-827b-c905c259f2de",
   "metadata": {},
   "outputs": [],
   "source": [
    "from scipy.sparse import csr_matrix\n",
    "\n",
    "class WordCounterToVectorTransformer(BaseEstimator, TransformerMixin):\n",
    "    def __init__(self, vocabulary_size=1000):\n",
    "        self.vocabulary_size = vocabulary_size\n",
    "    def fit(self, X, y=None):\n",
    "        total_count = Counter()\n",
    "        for word_count in X:\n",
    "            for word, count in word_count.items():\n",
    "                total_count[word] += min(count, 10)\n",
    "        most_common = total_count.most_common()[:self.vocabulary_size]\n",
    "        self.vocabulary_ = {word: index + 1\n",
    "                            for index, (word, count) in enumerate(most_common)}\n",
    "        return self\n",
    "    def transform(self, X, y=None):\n",
    "        rows = []\n",
    "        cols = []\n",
    "        data = []\n",
    "        for row, word_count in enumerate(X):\n",
    "            for word, count in word_count.items():\n",
    "                rows.append(row)\n",
    "                cols.append(self.vocabulary_.get(word, 0))\n",
    "                data.append(count)\n",
    "        return csr_matrix((data, (rows, cols)),\n",
    "                          shape=(len(X), self.vocabulary_size + 1))"
   ]
  },
  {
   "cell_type": "code",
   "execution_count": 36,
   "id": "3544f995-4d6b-48ed-8598-185f4f600df2",
   "metadata": {},
   "outputs": [
    {
     "data": {
      "text/plain": [
       "<Compressed Sparse Row sparse matrix of dtype 'int64'\n",
       "\twith 26 stored elements and shape (3, 11)>"
      ]
     },
     "execution_count": 36,
     "metadata": {},
     "output_type": "execute_result"
    }
   ],
   "source": [
    "vocab_transformer = WordCounterToVectorTransformer(vocabulary_size=10)\n",
    "X_few_vectors = vocab_transformer.fit_transform(X_few_wordcounts)\n",
    "X_few_vectors"
   ]
  },
  {
   "cell_type": "code",
   "execution_count": 37,
   "id": "adb717d3-1e9a-4131-9cf6-662d4de3f3ed",
   "metadata": {},
   "outputs": [
    {
     "data": {
      "text/plain": [
       "array([[ 60,   5,   4,   0,   2,   3,   1,   0,   2,   0,   0],\n",
       "       [187,   7,   5,   9,   9,   6,   6,   0,   0,   4,   7],\n",
       "       [192,   9,  10,  10,   7,   4,   4,   8,   5,   3,   0]])"
      ]
     },
     "execution_count": 37,
     "metadata": {},
     "output_type": "execute_result"
    }
   ],
   "source": [
    "X_few_vectors.toarray()"
   ]
  },
  {
   "cell_type": "code",
   "execution_count": 38,
   "id": "377bb2d7-a09d-4af1-860a-fe77fc24f1c2",
   "metadata": {},
   "outputs": [
    {
     "data": {
      "text/plain": [
       "{'number': 1,\n",
       " 'to': 2,\n",
       " 'the': 3,\n",
       " 'and': 4,\n",
       " 'you': 5,\n",
       " 'have': 6,\n",
       " 'name': 7,\n",
       " 'thi': 8,\n",
       " 'of': 9,\n",
       " 'marla': 10}"
      ]
     },
     "execution_count": 38,
     "metadata": {},
     "output_type": "execute_result"
    }
   ],
   "source": [
    "vocab_transformer.vocabulary_"
   ]
  },
  {
   "cell_type": "code",
   "execution_count": 41,
   "id": "b39bbefc-a5d0-428b-9422-d089fefda761",
   "metadata": {},
   "outputs": [],
   "source": [
    "from sklearn.pipeline import Pipeline\n",
    "\n",
    "preprocess_pipeline = Pipeline([\n",
    "    (\"email_to_wordcount\", EmailToWordCounterTransformer()),\n",
    "    (\"wordcount_to_vector\", WordCounterToVectorTransformer()),\n",
    "])\n",
    "\n",
    "X_train_transformed = preprocess_pipeline.fit_transform(X_train)\n",
    "X_test_transformed = preprocess_pipeline.transform(X_test)"
   ]
  },
  {
   "cell_type": "code",
   "execution_count": 42,
   "id": "48387c4a-e0bf-4b3b-8f89-0f3a5c2a27e5",
   "metadata": {},
   "outputs": [
    {
     "name": "stdout",
     "output_type": "stream",
     "text": [
      "Random Forest in test set -> Precision: 98.93%, Recall: 94.50%\n",
      "Gradient Boosting in test set -> Precision: 97.61%, Recall: 91.65%\n",
      "XGBoost in test set -> Precision: 98.95%, Recall: 95.93%\n",
      "SVM in test set -> Precision: 96.96%, Recall: 97.35%\n",
      "KNN in test set -> Precision: 90.53%, Recall: 83.71%\n",
      "LogReg in test set -> Precision: 97.75%, Recall: 97.15%\n"
     ]
    }
   ],
   "source": [
    "from sklearn.metrics import precision_score, recall_score\n",
    "from sklearn.ensemble import RandomForestClassifier, GradientBoostingClassifier\n",
    "from sklearn.svm import SVC\n",
    "from sklearn.neighbors import KNeighborsClassifier\n",
    "from sklearn.naive_bayes import GaussianNB\n",
    "from sklearn.linear_model import LogisticRegression\n",
    "from xgboost import XGBClassifier\n",
    "\n",
    "models = {\n",
    "    \"Random Forest\": RandomForestClassifier(random_state=42),\n",
    "    \"Gradient Boosting\": GradientBoostingClassifier(random_state=42),\n",
    "    \"XGBoost\": XGBClassifier(random_state=42),\n",
    "    \"SVM\": SVC(kernel='linear', probability=True, random_state=42),\n",
    "    \"KNN\": KNeighborsClassifier(),\n",
    "    \"LogReg\": LogisticRegression(max_iter=4000, random_state=42)\n",
    "}\n",
    "\n",
    "for name, model in models.items():\n",
    "    model.fit(X_train_transformed, y_train)\n",
    "    y_pred = model.predict(X_test_transformed)\n",
    "    precision = precision_score(y_test, y_pred)\n",
    "    recall = recall_score(y_test, y_pred)\n",
    "    print(f\"{name} in test set -> Precision: {precision:.2%}, Recall: {recall:.2%}\")\n"
   ]
  },
  {
   "cell_type": "markdown",
   "id": "15a0fec2-43a2-432e-953a-faa2c9e72a6e",
   "metadata": {},
   "source": [
    "As we can see, the best performing model in the test set what the logistic regression!"
   ]
  },
  {
   "cell_type": "code",
   "execution_count": null,
   "id": "3329e53d-529b-409e-865e-4f3dc883d3cc",
   "metadata": {},
   "outputs": [],
   "source": []
  }
 ],
 "metadata": {
  "kernelspec": {
   "display_name": "Python 3 (ipykernel)",
   "language": "python",
   "name": "python3"
  },
  "language_info": {
   "codemirror_mode": {
    "name": "ipython",
    "version": 3
   },
   "file_extension": ".py",
   "mimetype": "text/x-python",
   "name": "python",
   "nbconvert_exporter": "python",
   "pygments_lexer": "ipython3",
   "version": "3.13.3"
  }
 },
 "nbformat": 4,
 "nbformat_minor": 5
}
